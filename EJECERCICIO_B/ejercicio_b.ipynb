{
 "cells": [
  {
   "cell_type": "code",
   "execution_count": null,
   "id": "b119f48e",
   "metadata": {},
   "outputs": [],
   "source": [
    "#Librerias\n",
    "import pandas as pd\n",
    "import glob\n",
    "import os\n",
    "import datetime\n",
    "\n",
    "#Funciones de usuario\n",
    "import source.aux_functions as fn"
   ]
  },
  {
   "cell_type": "markdown",
   "id": "b488e265",
   "metadata": {},
   "source": [
    "# Parámetros de `pd.read_excel()`\n",
    "\n",
    "---\n",
    "\n",
    "* **`io`**\n",
    "    * **Definición:** Ruta del archivo Excel o un objeto similar a un archivo. Es el **parámetro obligatorio**.\n",
    "    * **Tipo:** `str` o `file-like object`\n",
    "\n",
    "* **`sheet_name`**\n",
    "    * **Definición:** Especifica la(s) hoja(s) a leer. Puede ser el nombre (string), el índice (entero, 0-indexado), una lista de nombres/índices, o `None` para todas las hojas.\n",
    "    * **Tipo:** `str`, `int`, `list`, o `None`\n",
    "\n",
    "* **`header`**\n",
    "    * **Definición:** Fila(s) a usar como encabezados de columna. Puede ser el índice de la fila (entero), una lista de índices para encabezados de múltiples niveles, o `None` si no hay encabezados.\n",
    "    * **Tipo:** `int`, `list of int`, o `None`\n",
    "\n",
    "* **`names`**\n",
    "    * **Definición:** Lista de strings para asignar nombres personalizados a las columnas. Útil cuando no hay encabezados o se desean sobrescribir.\n",
    "    * **Tipo:** `list of str`\n",
    "\n",
    "* **`index_col`**\n",
    "    * **Definición:** Columna(s) a usar como índice del DataFrame. Puede ser el índice (entero), el nombre (string), o una lista de ambos.\n",
    "    * **Tipo:** `int`, `str`, o `list of int/str`\n",
    "\n",
    "* **`usecols`**\n",
    "    * **Definición:** Un subconjunto de columnas a leer. Puede ser un string de rango de Excel (ej., `'A:C'`), una lista de índices o nombres de columna, o una función.\n",
    "    * **Tipo:** `str`, `list of int/str`, o `callable`\n",
    "\n",
    "* **`dtype`**\n",
    "    * **Definición:** Un diccionario para especificar tipos de datos para columnas específicas (ej., `{'columna': tipo}`).\n",
    "    * **Tipo:** `dict`\n",
    "\n",
    "* **`na_values`**\n",
    "    * **Definición:** Valor(es) a interpretar como `NaN` (valores nulos).\n",
    "    * **Tipo:** `scalar` o `list-like`\n",
    "\n",
    "* **`skiprows`**\n",
    "    * **Definición:** Número de filas a saltar desde el inicio del archivo, o una lista de índices de filas a omitir.\n",
    "    * **Tipo:** `int` o `list of int`\n",
    "\n",
    "* **`nrows`**\n",
    "    * **Definición:** Número de filas a leer del archivo (después de aplicar `skiprows`).\n",
    "    * **Tipo:** `int`"
   ]
  },
  {
   "cell_type": "code",
   "execution_count": 26,
   "id": "6136c7a5",
   "metadata": {},
   "outputs": [
    {
     "name": "stdout",
     "output_type": "stream",
     "text": [
      "./datos/datos_ventas/2025/ventas_multihoja.xlsx\n"
     ]
    }
   ],
   "source": [
    "# 1.- Crear Ruta dinamica para archivos CSV\n",
    "    # La ruta se construye con el año actual y la carpeta de datos de ventas\n",
    "    # Es mejor usar variables dinamicas para ejecuciones futuras sin modificar el codigo   \n",
    "    # Puedes añador TRY y EXCEPT para manejar errores en la ruta o archivos no encontrados\n",
    "\n",
    "anio_actual = datetime.datetime.now().strftime(\"%Y\")\n",
    "ruta_archivo = f\"./datos/datos_ventas/{anio_actual}/ventas_multihoja.xlsx\"\n",
    "\n",
    "print(ruta_archivo)"
   ]
  },
  {
   "cell_type": "code",
   "execution_count": 27,
   "id": "631f8871",
   "metadata": {},
   "outputs": [
    {
     "data": {
      "text/html": [
       "<div>\n",
       "<style scoped>\n",
       "    .dataframe tbody tr th:only-of-type {\n",
       "        vertical-align: middle;\n",
       "    }\n",
       "\n",
       "    .dataframe tbody tr th {\n",
       "        vertical-align: top;\n",
       "    }\n",
       "\n",
       "    .dataframe thead th {\n",
       "        text-align: right;\n",
       "    }\n",
       "</style>\n",
       "<table border=\"1\" class=\"dataframe\">\n",
       "  <thead>\n",
       "    <tr style=\"text-align: right;\">\n",
       "      <th></th>\n",
       "      <th>Cliente</th>\n",
       "      <th>Producto</th>\n",
       "      <th>Cantidad</th>\n",
       "      <th>Precio</th>\n",
       "    </tr>\n",
       "  </thead>\n",
       "  <tbody>\n",
       "    <tr>\n",
       "      <th>0</th>\n",
       "      <td>Ana</td>\n",
       "      <td>Libro</td>\n",
       "      <td>2</td>\n",
       "      <td>15.0</td>\n",
       "    </tr>\n",
       "    <tr>\n",
       "      <th>1</th>\n",
       "      <td>Luis</td>\n",
       "      <td>Cuaderno</td>\n",
       "      <td>5</td>\n",
       "      <td>3.0</td>\n",
       "    </tr>\n",
       "    <tr>\n",
       "      <th>2</th>\n",
       "      <td>María</td>\n",
       "      <td>Lápiz</td>\n",
       "      <td>10</td>\n",
       "      <td>1.0</td>\n",
       "    </tr>\n",
       "    <tr>\n",
       "      <th>3</th>\n",
       "      <td>Carlos</td>\n",
       "      <td>Regla</td>\n",
       "      <td>3</td>\n",
       "      <td>2.0</td>\n",
       "    </tr>\n",
       "    <tr>\n",
       "      <th>4</th>\n",
       "      <td>Lucía</td>\n",
       "      <td>Bolígrafo</td>\n",
       "      <td>7</td>\n",
       "      <td>1.5</td>\n",
       "    </tr>\n",
       "  </tbody>\n",
       "</table>\n",
       "</div>"
      ],
      "text/plain": [
       "  Cliente   Producto  Cantidad  Precio\n",
       "0     Ana      Libro         2    15.0\n",
       "1    Luis   Cuaderno         5     3.0\n",
       "2   María      Lápiz        10     1.0\n",
       "3  Carlos      Regla         3     2.0\n",
       "4   Lucía  Bolígrafo         7     1.5"
      ]
     },
     "execution_count": 27,
     "metadata": {},
     "output_type": "execute_result"
    }
   ],
   "source": [
    "# 2.- Leer archivos CSV de la ruta especificada\n",
    "    # Usamos pandas para leer el archivo Excel , especificando las columnas que nos (usecols) interesan y la hoja de ventas (sheet_name) \n",
    "    # skiprows se usa para saltar las primeras filas que no contienen datos relevantes\n",
    "df_ventas = pd.read_excel(ruta_archivo, usecols=\"A:D\",sheet_name='Ventas',skiprows=2)\n",
    "df_ventas.head()  # Muestra las primeras 5 filas del DataFrame para verificar que se ha cargado correctamente\n",
    " \n"
   ]
  },
  {
   "cell_type": "code",
   "execution_count": 23,
   "id": "11288931",
   "metadata": {},
   "outputs": [
    {
     "name": "stdout",
     "output_type": "stream",
     "text": [
      "<class 'pandas.core.frame.DataFrame'>\n",
      "RangeIndex: 5 entries, 0 to 4\n",
      "Data columns (total 4 columns):\n",
      " #   Column    Non-Null Count  Dtype  \n",
      "---  ------    --------------  -----  \n",
      " 0   Cliente   5 non-null      object \n",
      " 1   Producto  5 non-null      object \n",
      " 2   Cantidad  5 non-null      int64  \n",
      " 3   Precio    5 non-null      float64\n",
      "dtypes: float64(1), int64(1), object(2)\n",
      "memory usage: 292.0+ bytes\n"
     ]
    }
   ],
   "source": [
    "df_ventas.info()  # Muestra información general del DataFrame, como el número de filas y columnas, tipos de datos, etc."
   ]
  },
  {
   "cell_type": "code",
   "execution_count": 30,
   "id": "729e9d76",
   "metadata": {},
   "outputs": [
    {
     "data": {
      "text/html": [
       "<div>\n",
       "<style scoped>\n",
       "    .dataframe tbody tr th:only-of-type {\n",
       "        vertical-align: middle;\n",
       "    }\n",
       "\n",
       "    .dataframe tbody tr th {\n",
       "        vertical-align: top;\n",
       "    }\n",
       "\n",
       "    .dataframe thead th {\n",
       "        text-align: right;\n",
       "    }\n",
       "</style>\n",
       "<table border=\"1\" class=\"dataframe\">\n",
       "  <thead>\n",
       "    <tr style=\"text-align: right;\">\n",
       "      <th></th>\n",
       "      <th>id_cliente</th>\n",
       "      <th>nombre</th>\n",
       "      <th>email</th>\n",
       "    </tr>\n",
       "  </thead>\n",
       "  <tbody>\n",
       "    <tr>\n",
       "      <th>0</th>\n",
       "      <td>2</td>\n",
       "      <td>Luis</td>\n",
       "      <td>luis@mail.com</td>\n",
       "    </tr>\n",
       "    <tr>\n",
       "      <th>1</th>\n",
       "      <td>3</td>\n",
       "      <td>María</td>\n",
       "      <td>maria@mail.com</td>\n",
       "    </tr>\n",
       "    <tr>\n",
       "      <th>2</th>\n",
       "      <td>4</td>\n",
       "      <td>Carlos</td>\n",
       "      <td>carlos@mail.com</td>\n",
       "    </tr>\n",
       "    <tr>\n",
       "      <th>3</th>\n",
       "      <td>5</td>\n",
       "      <td>Lucía</td>\n",
       "      <td>lucia@mail.com</td>\n",
       "    </tr>\n",
       "  </tbody>\n",
       "</table>\n",
       "</div>"
      ],
      "text/plain": [
       "   id_cliente  nombre            email\n",
       "0           2    Luis    luis@mail.com\n",
       "1           3   María   maria@mail.com\n",
       "2           4  Carlos  carlos@mail.com\n",
       "3           5   Lucía   lucia@mail.com"
      ]
     },
     "execution_count": 30,
     "metadata": {},
     "output_type": "execute_result"
    }
   ],
   "source": [
    "# 3.- Leer archivos CSV de la ruta especificada\n",
    "    # Usamos pandas para leer el archivo Excel , especificando las columnas que nos (usecols) interesan y la hoja de ventas (sheet_name) \n",
    "    # skiprows se usa para saltar las primeras filas que no contienen datos relevantes\n",
    "df_clientes = pd.read_excel(ruta_archivo,sheet_name='Clientes',names=['id_cliente','nombre','email'])\n",
    "df_clientes.head() "
   ]
  },
  {
   "cell_type": "code",
   "execution_count": 32,
   "id": "6767b414",
   "metadata": {},
   "outputs": [
    {
     "name": "stdout",
     "output_type": "stream",
     "text": [
      "<class 'pandas.core.frame.DataFrame'>\n",
      "RangeIndex: 5 entries, 0 to 4\n",
      "Data columns (total 4 columns):\n",
      " #   Column    Non-Null Count  Dtype  \n",
      "---  ------    --------------  -----  \n",
      " 0   Cliente   5 non-null      object \n",
      " 1   Producto  5 non-null      object \n",
      " 2   Cantidad  5 non-null      int64  \n",
      " 3   Precio    5 non-null      float64\n",
      "dtypes: float64(1), int64(1), object(2)\n",
      "memory usage: 292.0+ bytes\n"
     ]
    }
   ],
   "source": [
    "df_ventas.info()"
   ]
  }
 ],
 "metadata": {
  "kernelspec": {
   "display_name": ".venv",
   "language": "python",
   "name": "python3"
  },
  "language_info": {
   "codemirror_mode": {
    "name": "ipython",
    "version": 3
   },
   "file_extension": ".py",
   "mimetype": "text/x-python",
   "name": "python",
   "nbconvert_exporter": "python",
   "pygments_lexer": "ipython3",
   "version": "3.13.2"
  }
 },
 "nbformat": 4,
 "nbformat_minor": 5
}
