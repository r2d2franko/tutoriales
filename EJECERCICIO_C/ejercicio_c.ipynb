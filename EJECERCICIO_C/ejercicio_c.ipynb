{
 "cells": [
  {
   "cell_type": "code",
   "execution_count": 38,
   "id": "b119f48e",
   "metadata": {},
   "outputs": [],
   "source": [
    "#Librerias\n",
    "import pandas as pd\n",
    "import numpy as np\n",
    "\n",
    "#Funciones de usuario\n",
    "import source.aux_functions as fn"
   ]
  },
  {
   "cell_type": "code",
   "execution_count": 39,
   "id": "d4cc9fea",
   "metadata": {},
   "outputs": [
    {
     "name": "stdout",
     "output_type": "stream",
     "text": [
      "DataFrame creado:\n",
      "   ID_Transaccion Producto Region  Trimestre  Ventas  Unidades_Vendidas  \\\n",
      "0             101   Laptop  Norte          1  1200.0                NaN   \n",
      "1             102    Mouse  Norte          1    50.0                1.0   \n",
      "2             103  Teclado    Sur          1    80.0                1.0   \n",
      "3             104  Monitor   Este          1   300.0                1.0   \n",
      "4             105   Laptop  Oeste          1  1500.0                3.0   \n",
      "\n",
      "       Fecha  \n",
      "0 2023-01-15  \n",
      "1 2023-01-20  \n",
      "2 2023-02-10  \n",
      "3 2023-03-01  \n",
      "4 2023-03-25  \n",
      "\n",
      "Información del DataFrame:\n",
      "<class 'pandas.core.frame.DataFrame'>\n",
      "RangeIndex: 30 entries, 0 to 29\n",
      "Data columns (total 7 columns):\n",
      " #   Column             Non-Null Count  Dtype         \n",
      "---  ------             --------------  -----         \n",
      " 0   ID_Transaccion     30 non-null     int64         \n",
      " 1   Producto           30 non-null     object        \n",
      " 2   Region             30 non-null     object        \n",
      " 3   Trimestre          30 non-null     int64         \n",
      " 4   Ventas             27 non-null     float64       \n",
      " 5   Unidades_Vendidas  27 non-null     float64       \n",
      " 6   Fecha              30 non-null     datetime64[ns]\n",
      "dtypes: datetime64[ns](1), float64(2), int64(2), object(2)\n",
      "memory usage: 1.8+ KB\n"
     ]
    }
   ],
   "source": [
    "# Datos para el DataFrame\n",
    "data = {\n",
    "    'ID_Transaccion': range(101, 131),\n",
    "    'Producto': ['Laptop', 'Mouse', 'Teclado', 'Monitor', 'Laptop', 'Mouse', 'Teclado', 'Monitor', 'Laptop', 'Mouse',\n",
    "                 'Teclado', 'Monitor', 'Laptop', 'Mouse', 'Teclado', 'Monitor', 'Laptop', 'Mouse', 'Teclado', 'Monitor',\n",
    "                 'Laptop', 'Mouse', 'Teclado', 'Monitor', 'Laptop', 'Mouse', 'Teclado', 'Monitor', 'Laptop', 'Mouse'],\n",
    "    'Region': ['Norte', 'Norte', 'Sur', 'Este', 'Oeste', 'Norte', 'Sur', 'Este', 'Oeste', 'Norte',\n",
    "               'Sur', 'Este', 'Oeste', 'Norte', 'Sur', 'Este', 'Oeste', 'Norte', 'Sur', 'Este',\n",
    "               'Oeste', 'Norte', 'Sur', 'Este', 'Oeste', 'Norte', 'Sur', 'Este', 'Oeste', 'Norte'],\n",
    "    'Trimestre': [1, 1, 1, 1, 1, 2, 2, 2, 2, 3,\n",
    "                  3, 3, 3, 4, 4, 4, 4, 1, 1, 1,\n",
    "                  2, 2, 2, 2, 3, 3, 3, 3, 4, 4],\n",
    "    'Ventas': [1200, 50, 80, 300, 1500, 60, 90, 320, 1300, 70,\n",
    "               100, 350, 1600, 80, 110, 380, 1400, 55, 85, 310,\n",
    "               1550, 65, 95, 330, 1350, 75, 105, 360, 1650, 85],\n",
    "    'Unidades_Vendidas': [2, 1, 1, 1, 3, 1, 1, 1, 2, 1,\n",
    "                          1, 1, 3, 1, 1, 1, 2, 1, 1, 1,\n",
    "                          3, 1, 1, 1, 2, 1, 1, 1, 3, 1],\n",
    "    'Fecha': pd.to_datetime(['2023-01-15', '2023-01-20', '2023-02-10', '2023-03-01', '2023-03-25',\n",
    "                             '2023-04-10', '2023-05-05', '2023-05-20', '2023-06-15', '2023-07-01',\n",
    "                             '2023-07-18', '2023-08-05', '2023-08-22', '2023-09-10', '2023-09-28',\n",
    "                             '2023-10-15', '2023-10-30', '2023-11-10', '2023-11-25', '2023-12-05',\n",
    "                             '2024-01-10', '2024-01-25', '2024-02-15', '2024-03-01', '2024-03-20',\n",
    "                             '2024-04-05', '2024-04-20', '2024-05-10', '2024-05-25', '2024-06-15'])\n",
    "}\n",
    "\n",
    "df_datos = pd.DataFrame(data)\n",
    "\n",
    "# Añadir algunos valores nulos para práctica (opcional, pero útil)\n",
    "np.random.seed(42) # para reproducibilidad\n",
    "for col in ['Ventas', 'Unidades_Vendidas']:\n",
    "    df_datos.loc[np.random.choice(df_datos.index, 3, replace=False), col] = np.nan\n",
    "\n",
    "print(\"DataFrame creado:\")\n",
    "print(df_datos.head())\n",
    "print(\"\\nInformación del DataFrame:\")\n",
    "df_datos.info()"
   ]
  },
  {
   "cell_type": "code",
   "execution_count": 40,
   "id": "64ec1fbd",
   "metadata": {},
   "outputs": [
    {
     "data": {
      "text/plain": [
       "Producto\n",
       "Laptop     11550.0\n",
       "Monitor     1280.0\n",
       "Mouse        540.0\n",
       "Teclado      665.0\n",
       "Name: Ventas, dtype: float64"
      ]
     },
     "execution_count": 40,
     "metadata": {},
     "output_type": "execute_result"
    }
   ],
   "source": [
    "df_datos.groupby('Producto')['Ventas'].sum()"
   ]
  },
  {
   "cell_type": "code",
   "execution_count": 49,
   "id": "8f9a2a3a",
   "metadata": {},
   "outputs": [
    {
     "data": {
      "text/plain": [
       "Region\n",
       "Este      320.000000\n",
       "Norte     193.333333\n",
       "Oeste    1478.571429\n",
       "Sur        95.000000\n",
       "Name: Ventas, dtype: float64"
      ]
     },
     "execution_count": 49,
     "metadata": {},
     "output_type": "execute_result"
    }
   ],
   "source": [
    "df_datos.groupby('Region')['Ventas'].mean()"
   ]
  },
  {
   "cell_type": "code",
   "execution_count": null,
   "id": "d9fb85a1",
   "metadata": {},
   "outputs": [
    {
     "data": {
      "text/plain": [
       "Trimestre\n",
       "1    8\n",
       "2    8\n",
       "3    8\n",
       "4    6\n",
       "Name: ID_Transaccion, dtype: int64"
      ]
     },
     "execution_count": 10,
     "metadata": {},
     "output_type": "execute_result"
    }
   ],
   "source": [
    "df_datos.groupby('Trimestre')['ID_Transaccion'].count()"
   ]
  },
  {
   "cell_type": "code",
   "execution_count": 43,
   "id": "0dd2b6d5",
   "metadata": {},
   "outputs": [
    {
     "name": "stdout",
     "output_type": "stream",
     "text": [
      "\n",
      "DataFrame agrupado con nombres personalizados:\n"
     ]
    },
    {
     "data": {
      "text/html": [
       "<div>\n",
       "<style scoped>\n",
       "    .dataframe tbody tr th:only-of-type {\n",
       "        vertical-align: middle;\n",
       "    }\n",
       "\n",
       "    .dataframe tbody tr th {\n",
       "        vertical-align: top;\n",
       "    }\n",
       "\n",
       "    .dataframe thead th {\n",
       "        text-align: right;\n",
       "    }\n",
       "</style>\n",
       "<table border=\"1\" class=\"dataframe\">\n",
       "  <thead>\n",
       "    <tr style=\"text-align: right;\">\n",
       "      <th></th>\n",
       "      <th></th>\n",
       "      <th>Total_Ventas</th>\n",
       "      <th>Promedio_Unidades</th>\n",
       "      <th>Numero_Transacciones</th>\n",
       "    </tr>\n",
       "    <tr>\n",
       "      <th>Producto</th>\n",
       "      <th>Region</th>\n",
       "      <th></th>\n",
       "      <th></th>\n",
       "      <th></th>\n",
       "    </tr>\n",
       "  </thead>\n",
       "  <tbody>\n",
       "    <tr>\n",
       "      <th rowspan=\"2\" valign=\"top\">Laptop</th>\n",
       "      <th>Norte</th>\n",
       "      <td>1200.0</td>\n",
       "      <td>NaN</td>\n",
       "      <td>1</td>\n",
       "    </tr>\n",
       "    <tr>\n",
       "      <th>Oeste</th>\n",
       "      <td>10350.0</td>\n",
       "      <td>2.5</td>\n",
       "      <td>7</td>\n",
       "    </tr>\n",
       "    <tr>\n",
       "      <th>Monitor</th>\n",
       "      <th>Este</th>\n",
       "      <td>1280.0</td>\n",
       "      <td>1.0</td>\n",
       "      <td>7</td>\n",
       "    </tr>\n",
       "    <tr>\n",
       "      <th>Mouse</th>\n",
       "      <th>Norte</th>\n",
       "      <td>540.0</td>\n",
       "      <td>1.0</td>\n",
       "      <td>8</td>\n",
       "    </tr>\n",
       "    <tr>\n",
       "      <th>Teclado</th>\n",
       "      <th>Sur</th>\n",
       "      <td>665.0</td>\n",
       "      <td>1.0</td>\n",
       "      <td>7</td>\n",
       "    </tr>\n",
       "  </tbody>\n",
       "</table>\n",
       "</div>"
      ],
      "text/plain": [
       "                 Total_Ventas  Promedio_Unidades  Numero_Transacciones\n",
       "Producto Region                                                       \n",
       "Laptop   Norte         1200.0                NaN                     1\n",
       "         Oeste        10350.0                2.5                     7\n",
       "Monitor  Este          1280.0                1.0                     7\n",
       "Mouse    Norte          540.0                1.0                     8\n",
       "Teclado  Sur            665.0                1.0                     7"
      ]
     },
     "execution_count": 43,
     "metadata": {},
     "output_type": "execute_result"
    }
   ],
   "source": [
    "# Agregando con nombres personalizados usando un diccionario\n",
    "df_agrupado_personalizado = df_datos.groupby(['Producto','Region']).agg(\n",
    "    Total_Ventas=('Ventas', 'sum'),\n",
    "    Promedio_Unidades=('Unidades_Vendidas', 'mean'),\n",
    "    Numero_Transacciones=('ID_Transaccion', 'count')\n",
    ")\n",
    "#Valida el resultado\n",
    "print(\"\\nDataFrame agrupado con nombres personalizados:\")\n",
    "df_agrupado_personalizado.reset_index()\n",
    "df_agrupado_personalizado.head()\n",
    "\n"
   ]
  },
  {
   "cell_type": "code",
   "execution_count": 46,
   "id": "29f12eaf",
   "metadata": {},
   "outputs": [
    {
     "name": "stdout",
     "output_type": "stream",
     "text": [
      "\n",
      "DataFrame con valores nulos corregidos en 'Promedio_Unidades':\n"
     ]
    },
    {
     "data": {
      "text/html": [
       "<div>\n",
       "<style scoped>\n",
       "    .dataframe tbody tr th:only-of-type {\n",
       "        vertical-align: middle;\n",
       "    }\n",
       "\n",
       "    .dataframe tbody tr th {\n",
       "        vertical-align: top;\n",
       "    }\n",
       "\n",
       "    .dataframe thead th {\n",
       "        text-align: right;\n",
       "    }\n",
       "</style>\n",
       "<table border=\"1\" class=\"dataframe\">\n",
       "  <thead>\n",
       "    <tr style=\"text-align: right;\">\n",
       "      <th></th>\n",
       "      <th></th>\n",
       "      <th>Total_Ventas</th>\n",
       "      <th>Promedio_Unidades</th>\n",
       "      <th>Numero_Transacciones</th>\n",
       "    </tr>\n",
       "    <tr>\n",
       "      <th>Producto</th>\n",
       "      <th>Region</th>\n",
       "      <th></th>\n",
       "      <th></th>\n",
       "      <th></th>\n",
       "    </tr>\n",
       "  </thead>\n",
       "  <tbody>\n",
       "    <tr>\n",
       "      <th rowspan=\"2\" valign=\"top\">Laptop</th>\n",
       "      <th>Norte</th>\n",
       "      <td>1200.0</td>\n",
       "      <td>0.0</td>\n",
       "      <td>1</td>\n",
       "    </tr>\n",
       "    <tr>\n",
       "      <th>Oeste</th>\n",
       "      <td>10350.0</td>\n",
       "      <td>2.5</td>\n",
       "      <td>7</td>\n",
       "    </tr>\n",
       "    <tr>\n",
       "      <th>Monitor</th>\n",
       "      <th>Este</th>\n",
       "      <td>1280.0</td>\n",
       "      <td>1.0</td>\n",
       "      <td>7</td>\n",
       "    </tr>\n",
       "    <tr>\n",
       "      <th>Mouse</th>\n",
       "      <th>Norte</th>\n",
       "      <td>540.0</td>\n",
       "      <td>1.0</td>\n",
       "      <td>8</td>\n",
       "    </tr>\n",
       "    <tr>\n",
       "      <th>Teclado</th>\n",
       "      <th>Sur</th>\n",
       "      <td>665.0</td>\n",
       "      <td>1.0</td>\n",
       "      <td>7</td>\n",
       "    </tr>\n",
       "  </tbody>\n",
       "</table>\n",
       "</div>"
      ],
      "text/plain": [
       "                 Total_Ventas  Promedio_Unidades  Numero_Transacciones\n",
       "Producto Region                                                       \n",
       "Laptop   Norte         1200.0                0.0                     1\n",
       "         Oeste        10350.0                2.5                     7\n",
       "Monitor  Este          1280.0                1.0                     7\n",
       "Mouse    Norte          540.0                1.0                     8\n",
       "Teclado  Sur            665.0                1.0                     7"
      ]
     },
     "execution_count": 46,
     "metadata": {},
     "output_type": "execute_result"
    }
   ],
   "source": [
    "#Corrige los valores nulos en la columna 'Promedio_Unidades' con 0\n",
    "df_filled_col = df_agrupado_personalizado.copy()\n",
    "df_filled_col['Promedio_Unidades']=df_filled_col['Promedio_Unidades'].fillna(0) # Rellenar todos los nulos con 0\n",
    "print(\"\\nDataFrame con valores nulos corregidos en 'Promedio_Unidades':\")\n",
    "df_filled_col.head()\n"
   ]
  },
  {
   "cell_type": "code",
   "execution_count": 47,
   "id": "7b0cc7de",
   "metadata": {},
   "outputs": [
    {
     "name": "stdout",
     "output_type": "stream",
     "text": [
      "\n",
      "DataFrame con valores nulos corregidos:\n"
     ]
    },
    {
     "data": {
      "text/html": [
       "<div>\n",
       "<style scoped>\n",
       "    .dataframe tbody tr th:only-of-type {\n",
       "        vertical-align: middle;\n",
       "    }\n",
       "\n",
       "    .dataframe tbody tr th {\n",
       "        vertical-align: top;\n",
       "    }\n",
       "\n",
       "    .dataframe thead th {\n",
       "        text-align: right;\n",
       "    }\n",
       "</style>\n",
       "<table border=\"1\" class=\"dataframe\">\n",
       "  <thead>\n",
       "    <tr style=\"text-align: right;\">\n",
       "      <th></th>\n",
       "      <th></th>\n",
       "      <th>Total_Ventas</th>\n",
       "      <th>Promedio_Unidades</th>\n",
       "      <th>Numero_Transacciones</th>\n",
       "    </tr>\n",
       "    <tr>\n",
       "      <th>Producto</th>\n",
       "      <th>Region</th>\n",
       "      <th></th>\n",
       "      <th></th>\n",
       "      <th></th>\n",
       "    </tr>\n",
       "  </thead>\n",
       "  <tbody>\n",
       "    <tr>\n",
       "      <th rowspan=\"2\" valign=\"top\">Laptop</th>\n",
       "      <th>Norte</th>\n",
       "      <td>1200.0</td>\n",
       "      <td>0.0</td>\n",
       "      <td>1</td>\n",
       "    </tr>\n",
       "    <tr>\n",
       "      <th>Oeste</th>\n",
       "      <td>10350.0</td>\n",
       "      <td>2.5</td>\n",
       "      <td>7</td>\n",
       "    </tr>\n",
       "    <tr>\n",
       "      <th>Monitor</th>\n",
       "      <th>Este</th>\n",
       "      <td>1280.0</td>\n",
       "      <td>1.0</td>\n",
       "      <td>7</td>\n",
       "    </tr>\n",
       "    <tr>\n",
       "      <th>Mouse</th>\n",
       "      <th>Norte</th>\n",
       "      <td>540.0</td>\n",
       "      <td>1.0</td>\n",
       "      <td>8</td>\n",
       "    </tr>\n",
       "    <tr>\n",
       "      <th>Teclado</th>\n",
       "      <th>Sur</th>\n",
       "      <td>665.0</td>\n",
       "      <td>1.0</td>\n",
       "      <td>7</td>\n",
       "    </tr>\n",
       "  </tbody>\n",
       "</table>\n",
       "</div>"
      ],
      "text/plain": [
       "                 Total_Ventas  Promedio_Unidades  Numero_Transacciones\n",
       "Producto Region                                                       \n",
       "Laptop   Norte         1200.0                0.0                     1\n",
       "         Oeste        10350.0                2.5                     7\n",
       "Monitor  Este          1280.0                1.0                     7\n",
       "Mouse    Norte          540.0                1.0                     8\n",
       "Teclado  Sur            665.0                1.0                     7"
      ]
     },
     "execution_count": 47,
     "metadata": {},
     "output_type": "execute_result"
    }
   ],
   "source": [
    "\n",
    "#Corrige todos los valores nulos en el DataFrame con 0\n",
    "df_filled_col = df_filled_col.fillna(0) # Rellenar todos los nulos con 0\n",
    "print(\"\\nDataFrame con valores nulos corregidos:\")\n",
    "df_filled_col.head()"
   ]
  }
 ],
 "metadata": {
  "kernelspec": {
   "display_name": ".venv",
   "language": "python",
   "name": "python3"
  },
  "language_info": {
   "codemirror_mode": {
    "name": "ipython",
    "version": 3
   },
   "file_extension": ".py",
   "mimetype": "text/x-python",
   "name": "python",
   "nbconvert_exporter": "python",
   "pygments_lexer": "ipython3",
   "version": "3.13.2"
  }
 },
 "nbformat": 4,
 "nbformat_minor": 5
}
